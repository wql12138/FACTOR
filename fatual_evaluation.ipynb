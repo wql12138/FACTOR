{
  "nbformat": 4,
  "nbformat_minor": 0,
  "metadata": {
    "colab": {
      "provenance": [],
      "gpuType": "T4"
    },
    "kernelspec": {
      "name": "python3",
      "display_name": "Python 3"
    },
    "language_info": {
      "name": "python"
    },
    "accelerator": "GPU",
    "widgets": {
      "application/vnd.jupyter.widget-state+json": {
        "f346c501be554151a38dad65bbc81ee5": {
          "model_module": "@jupyter-widgets/controls",
          "model_name": "HBoxModel",
          "model_module_version": "1.5.0",
          "state": {
            "_dom_classes": [],
            "_model_module": "@jupyter-widgets/controls",
            "_model_module_version": "1.5.0",
            "_model_name": "HBoxModel",
            "_view_count": null,
            "_view_module": "@jupyter-widgets/controls",
            "_view_module_version": "1.5.0",
            "_view_name": "HBoxView",
            "box_style": "",
            "children": [
              "IPY_MODEL_3518207ee10246899b603d42a0dc6a64",
              "IPY_MODEL_55904f9c5a9f47d5aed2250334b6fe4d",
              "IPY_MODEL_c5aded8707764ea8a99920dea4e01b43"
            ],
            "layout": "IPY_MODEL_1a950afa543b480ea5cbc0c4e5331ccc"
          }
        },
        "3518207ee10246899b603d42a0dc6a64": {
          "model_module": "@jupyter-widgets/controls",
          "model_name": "HTMLModel",
          "model_module_version": "1.5.0",
          "state": {
            "_dom_classes": [],
            "_model_module": "@jupyter-widgets/controls",
            "_model_module_version": "1.5.0",
            "_model_name": "HTMLModel",
            "_view_count": null,
            "_view_module": "@jupyter-widgets/controls",
            "_view_module_version": "1.5.0",
            "_view_name": "HTMLView",
            "description": "",
            "description_tooltip": null,
            "layout": "IPY_MODEL_20f8957182fa4cceb10cccc63db494f3",
            "placeholder": "​",
            "style": "IPY_MODEL_0de573b9f2194c34890c8e9c3cc7e552",
            "value": "config.json: 100%"
          }
        },
        "55904f9c5a9f47d5aed2250334b6fe4d": {
          "model_module": "@jupyter-widgets/controls",
          "model_name": "FloatProgressModel",
          "model_module_version": "1.5.0",
          "state": {
            "_dom_classes": [],
            "_model_module": "@jupyter-widgets/controls",
            "_model_module_version": "1.5.0",
            "_model_name": "FloatProgressModel",
            "_view_count": null,
            "_view_module": "@jupyter-widgets/controls",
            "_view_module_version": "1.5.0",
            "_view_name": "ProgressView",
            "bar_style": "success",
            "description": "",
            "description_tooltip": null,
            "layout": "IPY_MODEL_567e54bd9f7745aa96cf42e7de86ff6b",
            "max": 644,
            "min": 0,
            "orientation": "horizontal",
            "style": "IPY_MODEL_5e837c6b2dff435ba2a5c92ddc80004d",
            "value": 644
          }
        },
        "c5aded8707764ea8a99920dea4e01b43": {
          "model_module": "@jupyter-widgets/controls",
          "model_name": "HTMLModel",
          "model_module_version": "1.5.0",
          "state": {
            "_dom_classes": [],
            "_model_module": "@jupyter-widgets/controls",
            "_model_module_version": "1.5.0",
            "_model_name": "HTMLModel",
            "_view_count": null,
            "_view_module": "@jupyter-widgets/controls",
            "_view_module_version": "1.5.0",
            "_view_name": "HTMLView",
            "description": "",
            "description_tooltip": null,
            "layout": "IPY_MODEL_c5a5f399aa23419abf1aa2ccd9c95a18",
            "placeholder": "​",
            "style": "IPY_MODEL_dddc73b2025d44a2bf9eb3852c57f287",
            "value": " 644/644 [00:00&lt;00:00, 14.1kB/s]"
          }
        },
        "1a950afa543b480ea5cbc0c4e5331ccc": {
          "model_module": "@jupyter-widgets/base",
          "model_name": "LayoutModel",
          "model_module_version": "1.2.0",
          "state": {
            "_model_module": "@jupyter-widgets/base",
            "_model_module_version": "1.2.0",
            "_model_name": "LayoutModel",
            "_view_count": null,
            "_view_module": "@jupyter-widgets/base",
            "_view_module_version": "1.2.0",
            "_view_name": "LayoutView",
            "align_content": null,
            "align_items": null,
            "align_self": null,
            "border": null,
            "bottom": null,
            "display": null,
            "flex": null,
            "flex_flow": null,
            "grid_area": null,
            "grid_auto_columns": null,
            "grid_auto_flow": null,
            "grid_auto_rows": null,
            "grid_column": null,
            "grid_gap": null,
            "grid_row": null,
            "grid_template_areas": null,
            "grid_template_columns": null,
            "grid_template_rows": null,
            "height": null,
            "justify_content": null,
            "justify_items": null,
            "left": null,
            "margin": null,
            "max_height": null,
            "max_width": null,
            "min_height": null,
            "min_width": null,
            "object_fit": null,
            "object_position": null,
            "order": null,
            "overflow": null,
            "overflow_x": null,
            "overflow_y": null,
            "padding": null,
            "right": null,
            "top": null,
            "visibility": null,
            "width": null
          }
        },
        "20f8957182fa4cceb10cccc63db494f3": {
          "model_module": "@jupyter-widgets/base",
          "model_name": "LayoutModel",
          "model_module_version": "1.2.0",
          "state": {
            "_model_module": "@jupyter-widgets/base",
            "_model_module_version": "1.2.0",
            "_model_name": "LayoutModel",
            "_view_count": null,
            "_view_module": "@jupyter-widgets/base",
            "_view_module_version": "1.2.0",
            "_view_name": "LayoutView",
            "align_content": null,
            "align_items": null,
            "align_self": null,
            "border": null,
            "bottom": null,
            "display": null,
            "flex": null,
            "flex_flow": null,
            "grid_area": null,
            "grid_auto_columns": null,
            "grid_auto_flow": null,
            "grid_auto_rows": null,
            "grid_column": null,
            "grid_gap": null,
            "grid_row": null,
            "grid_template_areas": null,
            "grid_template_columns": null,
            "grid_template_rows": null,
            "height": null,
            "justify_content": null,
            "justify_items": null,
            "left": null,
            "margin": null,
            "max_height": null,
            "max_width": null,
            "min_height": null,
            "min_width": null,
            "object_fit": null,
            "object_position": null,
            "order": null,
            "overflow": null,
            "overflow_x": null,
            "overflow_y": null,
            "padding": null,
            "right": null,
            "top": null,
            "visibility": null,
            "width": null
          }
        },
        "0de573b9f2194c34890c8e9c3cc7e552": {
          "model_module": "@jupyter-widgets/controls",
          "model_name": "DescriptionStyleModel",
          "model_module_version": "1.5.0",
          "state": {
            "_model_module": "@jupyter-widgets/controls",
            "_model_module_version": "1.5.0",
            "_model_name": "DescriptionStyleModel",
            "_view_count": null,
            "_view_module": "@jupyter-widgets/base",
            "_view_module_version": "1.2.0",
            "_view_name": "StyleView",
            "description_width": ""
          }
        },
        "567e54bd9f7745aa96cf42e7de86ff6b": {
          "model_module": "@jupyter-widgets/base",
          "model_name": "LayoutModel",
          "model_module_version": "1.2.0",
          "state": {
            "_model_module": "@jupyter-widgets/base",
            "_model_module_version": "1.2.0",
            "_model_name": "LayoutModel",
            "_view_count": null,
            "_view_module": "@jupyter-widgets/base",
            "_view_module_version": "1.2.0",
            "_view_name": "LayoutView",
            "align_content": null,
            "align_items": null,
            "align_self": null,
            "border": null,
            "bottom": null,
            "display": null,
            "flex": null,
            "flex_flow": null,
            "grid_area": null,
            "grid_auto_columns": null,
            "grid_auto_flow": null,
            "grid_auto_rows": null,
            "grid_column": null,
            "grid_gap": null,
            "grid_row": null,
            "grid_template_areas": null,
            "grid_template_columns": null,
            "grid_template_rows": null,
            "height": null,
            "justify_content": null,
            "justify_items": null,
            "left": null,
            "margin": null,
            "max_height": null,
            "max_width": null,
            "min_height": null,
            "min_width": null,
            "object_fit": null,
            "object_position": null,
            "order": null,
            "overflow": null,
            "overflow_x": null,
            "overflow_y": null,
            "padding": null,
            "right": null,
            "top": null,
            "visibility": null,
            "width": null
          }
        },
        "5e837c6b2dff435ba2a5c92ddc80004d": {
          "model_module": "@jupyter-widgets/controls",
          "model_name": "ProgressStyleModel",
          "model_module_version": "1.5.0",
          "state": {
            "_model_module": "@jupyter-widgets/controls",
            "_model_module_version": "1.5.0",
            "_model_name": "ProgressStyleModel",
            "_view_count": null,
            "_view_module": "@jupyter-widgets/base",
            "_view_module_version": "1.2.0",
            "_view_name": "StyleView",
            "bar_color": null,
            "description_width": ""
          }
        },
        "c5a5f399aa23419abf1aa2ccd9c95a18": {
          "model_module": "@jupyter-widgets/base",
          "model_name": "LayoutModel",
          "model_module_version": "1.2.0",
          "state": {
            "_model_module": "@jupyter-widgets/base",
            "_model_module_version": "1.2.0",
            "_model_name": "LayoutModel",
            "_view_count": null,
            "_view_module": "@jupyter-widgets/base",
            "_view_module_version": "1.2.0",
            "_view_name": "LayoutView",
            "align_content": null,
            "align_items": null,
            "align_self": null,
            "border": null,
            "bottom": null,
            "display": null,
            "flex": null,
            "flex_flow": null,
            "grid_area": null,
            "grid_auto_columns": null,
            "grid_auto_flow": null,
            "grid_auto_rows": null,
            "grid_column": null,
            "grid_gap": null,
            "grid_row": null,
            "grid_template_areas": null,
            "grid_template_columns": null,
            "grid_template_rows": null,
            "height": null,
            "justify_content": null,
            "justify_items": null,
            "left": null,
            "margin": null,
            "max_height": null,
            "max_width": null,
            "min_height": null,
            "min_width": null,
            "object_fit": null,
            "object_position": null,
            "order": null,
            "overflow": null,
            "overflow_x": null,
            "overflow_y": null,
            "padding": null,
            "right": null,
            "top": null,
            "visibility": null,
            "width": null
          }
        },
        "dddc73b2025d44a2bf9eb3852c57f287": {
          "model_module": "@jupyter-widgets/controls",
          "model_name": "DescriptionStyleModel",
          "model_module_version": "1.5.0",
          "state": {
            "_model_module": "@jupyter-widgets/controls",
            "_model_module_version": "1.5.0",
            "_model_name": "DescriptionStyleModel",
            "_view_count": null,
            "_view_module": "@jupyter-widgets/base",
            "_view_module_version": "1.2.0",
            "_view_name": "StyleView",
            "description_width": ""
          }
        },
        "37900abc5b294c84b46f953da91f1346": {
          "model_module": "@jupyter-widgets/controls",
          "model_name": "HBoxModel",
          "model_module_version": "1.5.0",
          "state": {
            "_dom_classes": [],
            "_model_module": "@jupyter-widgets/controls",
            "_model_module_version": "1.5.0",
            "_model_name": "HBoxModel",
            "_view_count": null,
            "_view_module": "@jupyter-widgets/controls",
            "_view_module_version": "1.5.0",
            "_view_name": "HBoxView",
            "box_style": "",
            "children": [
              "IPY_MODEL_f0d98d4f3a354e218fa1cceb50c4f663",
              "IPY_MODEL_f113684130b84b55bbdcbdb02b8d031b",
              "IPY_MODEL_8b72a60e1f11419da476b32a322d5eec"
            ],
            "layout": "IPY_MODEL_4559990ffde948b88b08d1cd024b3c3a"
          }
        },
        "f0d98d4f3a354e218fa1cceb50c4f663": {
          "model_module": "@jupyter-widgets/controls",
          "model_name": "HTMLModel",
          "model_module_version": "1.5.0",
          "state": {
            "_dom_classes": [],
            "_model_module": "@jupyter-widgets/controls",
            "_model_module_version": "1.5.0",
            "_model_name": "HTMLModel",
            "_view_count": null,
            "_view_module": "@jupyter-widgets/controls",
            "_view_module_version": "1.5.0",
            "_view_name": "HTMLView",
            "description": "",
            "description_tooltip": null,
            "layout": "IPY_MODEL_16836d780ef44017b5246f6594bc2c56",
            "placeholder": "​",
            "style": "IPY_MODEL_8e847e388b634641ba981e57bb70b56f",
            "value": "tokenizer_config.json: 100%"
          }
        },
        "f113684130b84b55bbdcbdb02b8d031b": {
          "model_module": "@jupyter-widgets/controls",
          "model_name": "FloatProgressModel",
          "model_module_version": "1.5.0",
          "state": {
            "_dom_classes": [],
            "_model_module": "@jupyter-widgets/controls",
            "_model_module_version": "1.5.0",
            "_model_name": "FloatProgressModel",
            "_view_count": null,
            "_view_module": "@jupyter-widgets/controls",
            "_view_module_version": "1.5.0",
            "_view_name": "ProgressView",
            "bar_style": "success",
            "description": "",
            "description_tooltip": null,
            "layout": "IPY_MODEL_b2df5d0d6126485c9aa96368637d041b",
            "max": 685,
            "min": 0,
            "orientation": "horizontal",
            "style": "IPY_MODEL_d50b757a75384c58b48df94f8d7069a5",
            "value": 685
          }
        },
        "8b72a60e1f11419da476b32a322d5eec": {
          "model_module": "@jupyter-widgets/controls",
          "model_name": "HTMLModel",
          "model_module_version": "1.5.0",
          "state": {
            "_dom_classes": [],
            "_model_module": "@jupyter-widgets/controls",
            "_model_module_version": "1.5.0",
            "_model_name": "HTMLModel",
            "_view_count": null,
            "_view_module": "@jupyter-widgets/controls",
            "_view_module_version": "1.5.0",
            "_view_name": "HTMLView",
            "description": "",
            "description_tooltip": null,
            "layout": "IPY_MODEL_7e645c38ac974e268a73fbca276472a4",
            "placeholder": "​",
            "style": "IPY_MODEL_6054720ff9aa4c6683e8862bd3dfa32e",
            "value": " 685/685 [00:00&lt;00:00, 32.4kB/s]"
          }
        },
        "4559990ffde948b88b08d1cd024b3c3a": {
          "model_module": "@jupyter-widgets/base",
          "model_name": "LayoutModel",
          "model_module_version": "1.2.0",
          "state": {
            "_model_module": "@jupyter-widgets/base",
            "_model_module_version": "1.2.0",
            "_model_name": "LayoutModel",
            "_view_count": null,
            "_view_module": "@jupyter-widgets/base",
            "_view_module_version": "1.2.0",
            "_view_name": "LayoutView",
            "align_content": null,
            "align_items": null,
            "align_self": null,
            "border": null,
            "bottom": null,
            "display": null,
            "flex": null,
            "flex_flow": null,
            "grid_area": null,
            "grid_auto_columns": null,
            "grid_auto_flow": null,
            "grid_auto_rows": null,
            "grid_column": null,
            "grid_gap": null,
            "grid_row": null,
            "grid_template_areas": null,
            "grid_template_columns": null,
            "grid_template_rows": null,
            "height": null,
            "justify_content": null,
            "justify_items": null,
            "left": null,
            "margin": null,
            "max_height": null,
            "max_width": null,
            "min_height": null,
            "min_width": null,
            "object_fit": null,
            "object_position": null,
            "order": null,
            "overflow": null,
            "overflow_x": null,
            "overflow_y": null,
            "padding": null,
            "right": null,
            "top": null,
            "visibility": null,
            "width": null
          }
        },
        "16836d780ef44017b5246f6594bc2c56": {
          "model_module": "@jupyter-widgets/base",
          "model_name": "LayoutModel",
          "model_module_version": "1.2.0",
          "state": {
            "_model_module": "@jupyter-widgets/base",
            "_model_module_version": "1.2.0",
            "_model_name": "LayoutModel",
            "_view_count": null,
            "_view_module": "@jupyter-widgets/base",
            "_view_module_version": "1.2.0",
            "_view_name": "LayoutView",
            "align_content": null,
            "align_items": null,
            "align_self": null,
            "border": null,
            "bottom": null,
            "display": null,
            "flex": null,
            "flex_flow": null,
            "grid_area": null,
            "grid_auto_columns": null,
            "grid_auto_flow": null,
            "grid_auto_rows": null,
            "grid_column": null,
            "grid_gap": null,
            "grid_row": null,
            "grid_template_areas": null,
            "grid_template_columns": null,
            "grid_template_rows": null,
            "height": null,
            "justify_content": null,
            "justify_items": null,
            "left": null,
            "margin": null,
            "max_height": null,
            "max_width": null,
            "min_height": null,
            "min_width": null,
            "object_fit": null,
            "object_position": null,
            "order": null,
            "overflow": null,
            "overflow_x": null,
            "overflow_y": null,
            "padding": null,
            "right": null,
            "top": null,
            "visibility": null,
            "width": null
          }
        },
        "8e847e388b634641ba981e57bb70b56f": {
          "model_module": "@jupyter-widgets/controls",
          "model_name": "DescriptionStyleModel",
          "model_module_version": "1.5.0",
          "state": {
            "_model_module": "@jupyter-widgets/controls",
            "_model_module_version": "1.5.0",
            "_model_name": "DescriptionStyleModel",
            "_view_count": null,
            "_view_module": "@jupyter-widgets/base",
            "_view_module_version": "1.2.0",
            "_view_name": "StyleView",
            "description_width": ""
          }
        },
        "b2df5d0d6126485c9aa96368637d041b": {
          "model_module": "@jupyter-widgets/base",
          "model_name": "LayoutModel",
          "model_module_version": "1.2.0",
          "state": {
            "_model_module": "@jupyter-widgets/base",
            "_model_module_version": "1.2.0",
            "_model_name": "LayoutModel",
            "_view_count": null,
            "_view_module": "@jupyter-widgets/base",
            "_view_module_version": "1.2.0",
            "_view_name": "LayoutView",
            "align_content": null,
            "align_items": null,
            "align_self": null,
            "border": null,
            "bottom": null,
            "display": null,
            "flex": null,
            "flex_flow": null,
            "grid_area": null,
            "grid_auto_columns": null,
            "grid_auto_flow": null,
            "grid_auto_rows": null,
            "grid_column": null,
            "grid_gap": null,
            "grid_row": null,
            "grid_template_areas": null,
            "grid_template_columns": null,
            "grid_template_rows": null,
            "height": null,
            "justify_content": null,
            "justify_items": null,
            "left": null,
            "margin": null,
            "max_height": null,
            "max_width": null,
            "min_height": null,
            "min_width": null,
            "object_fit": null,
            "object_position": null,
            "order": null,
            "overflow": null,
            "overflow_x": null,
            "overflow_y": null,
            "padding": null,
            "right": null,
            "top": null,
            "visibility": null,
            "width": null
          }
        },
        "d50b757a75384c58b48df94f8d7069a5": {
          "model_module": "@jupyter-widgets/controls",
          "model_name": "ProgressStyleModel",
          "model_module_version": "1.5.0",
          "state": {
            "_model_module": "@jupyter-widgets/controls",
            "_model_module_version": "1.5.0",
            "_model_name": "ProgressStyleModel",
            "_view_count": null,
            "_view_module": "@jupyter-widgets/base",
            "_view_module_version": "1.2.0",
            "_view_name": "StyleView",
            "bar_color": null,
            "description_width": ""
          }
        },
        "7e645c38ac974e268a73fbca276472a4": {
          "model_module": "@jupyter-widgets/base",
          "model_name": "LayoutModel",
          "model_module_version": "1.2.0",
          "state": {
            "_model_module": "@jupyter-widgets/base",
            "_model_module_version": "1.2.0",
            "_model_name": "LayoutModel",
            "_view_count": null,
            "_view_module": "@jupyter-widgets/base",
            "_view_module_version": "1.2.0",
            "_view_name": "LayoutView",
            "align_content": null,
            "align_items": null,
            "align_self": null,
            "border": null,
            "bottom": null,
            "display": null,
            "flex": null,
            "flex_flow": null,
            "grid_area": null,
            "grid_auto_columns": null,
            "grid_auto_flow": null,
            "grid_auto_rows": null,
            "grid_column": null,
            "grid_gap": null,
            "grid_row": null,
            "grid_template_areas": null,
            "grid_template_columns": null,
            "grid_template_rows": null,
            "height": null,
            "justify_content": null,
            "justify_items": null,
            "left": null,
            "margin": null,
            "max_height": null,
            "max_width": null,
            "min_height": null,
            "min_width": null,
            "object_fit": null,
            "object_position": null,
            "order": null,
            "overflow": null,
            "overflow_x": null,
            "overflow_y": null,
            "padding": null,
            "right": null,
            "top": null,
            "visibility": null,
            "width": null
          }
        },
        "6054720ff9aa4c6683e8862bd3dfa32e": {
          "model_module": "@jupyter-widgets/controls",
          "model_name": "DescriptionStyleModel",
          "model_module_version": "1.5.0",
          "state": {
            "_model_module": "@jupyter-widgets/controls",
            "_model_module_version": "1.5.0",
            "_model_name": "DescriptionStyleModel",
            "_view_count": null,
            "_view_module": "@jupyter-widgets/base",
            "_view_module_version": "1.2.0",
            "_view_name": "StyleView",
            "description_width": ""
          }
        },
        "f14750f969d24700aec8262911c15ec0": {
          "model_module": "@jupyter-widgets/controls",
          "model_name": "HBoxModel",
          "model_module_version": "1.5.0",
          "state": {
            "_dom_classes": [],
            "_model_module": "@jupyter-widgets/controls",
            "_model_module_version": "1.5.0",
            "_model_name": "HBoxModel",
            "_view_count": null,
            "_view_module": "@jupyter-widgets/controls",
            "_view_module_version": "1.5.0",
            "_view_name": "HBoxView",
            "box_style": "",
            "children": [
              "IPY_MODEL_51f1fa1f58d74eec9e3727b287f7a696",
              "IPY_MODEL_ef9c3754fae549639fcd3f5b9e130332",
              "IPY_MODEL_03a8e83a9b6a4957bd8109fce6515008"
            ],
            "layout": "IPY_MODEL_bff7d3c713da4e74a79be0afddbbd73a"
          }
        },
        "51f1fa1f58d74eec9e3727b287f7a696": {
          "model_module": "@jupyter-widgets/controls",
          "model_name": "HTMLModel",
          "model_module_version": "1.5.0",
          "state": {
            "_dom_classes": [],
            "_model_module": "@jupyter-widgets/controls",
            "_model_module_version": "1.5.0",
            "_model_name": "HTMLModel",
            "_view_count": null,
            "_view_module": "@jupyter-widgets/controls",
            "_view_module_version": "1.5.0",
            "_view_name": "HTMLView",
            "description": "",
            "description_tooltip": null,
            "layout": "IPY_MODEL_7ee0c2c0d54e4d69a40813719e43c551",
            "placeholder": "​",
            "style": "IPY_MODEL_f1ec244c70244823acbd03d5766ba47a",
            "value": "vocab.json: 100%"
          }
        },
        "ef9c3754fae549639fcd3f5b9e130332": {
          "model_module": "@jupyter-widgets/controls",
          "model_name": "FloatProgressModel",
          "model_module_version": "1.5.0",
          "state": {
            "_dom_classes": [],
            "_model_module": "@jupyter-widgets/controls",
            "_model_module_version": "1.5.0",
            "_model_name": "FloatProgressModel",
            "_view_count": null,
            "_view_module": "@jupyter-widgets/controls",
            "_view_module_version": "1.5.0",
            "_view_name": "ProgressView",
            "bar_style": "success",
            "description": "",
            "description_tooltip": null,
            "layout": "IPY_MODEL_2dc33a82ce16407a8217a7b8c6a30d59",
            "max": 898822,
            "min": 0,
            "orientation": "horizontal",
            "style": "IPY_MODEL_3897f95814844d36b63d3c03751afa95",
            "value": 898822
          }
        },
        "03a8e83a9b6a4957bd8109fce6515008": {
          "model_module": "@jupyter-widgets/controls",
          "model_name": "HTMLModel",
          "model_module_version": "1.5.0",
          "state": {
            "_dom_classes": [],
            "_model_module": "@jupyter-widgets/controls",
            "_model_module_version": "1.5.0",
            "_model_name": "HTMLModel",
            "_view_count": null,
            "_view_module": "@jupyter-widgets/controls",
            "_view_module_version": "1.5.0",
            "_view_name": "HTMLView",
            "description": "",
            "description_tooltip": null,
            "layout": "IPY_MODEL_26e26d06158441bc91544c47c5643f87",
            "placeholder": "​",
            "style": "IPY_MODEL_96143e38ef43453eb2ad2fad4841d421",
            "value": " 899k/899k [00:00&lt;00:00, 13.5MB/s]"
          }
        },
        "bff7d3c713da4e74a79be0afddbbd73a": {
          "model_module": "@jupyter-widgets/base",
          "model_name": "LayoutModel",
          "model_module_version": "1.2.0",
          "state": {
            "_model_module": "@jupyter-widgets/base",
            "_model_module_version": "1.2.0",
            "_model_name": "LayoutModel",
            "_view_count": null,
            "_view_module": "@jupyter-widgets/base",
            "_view_module_version": "1.2.0",
            "_view_name": "LayoutView",
            "align_content": null,
            "align_items": null,
            "align_self": null,
            "border": null,
            "bottom": null,
            "display": null,
            "flex": null,
            "flex_flow": null,
            "grid_area": null,
            "grid_auto_columns": null,
            "grid_auto_flow": null,
            "grid_auto_rows": null,
            "grid_column": null,
            "grid_gap": null,
            "grid_row": null,
            "grid_template_areas": null,
            "grid_template_columns": null,
            "grid_template_rows": null,
            "height": null,
            "justify_content": null,
            "justify_items": null,
            "left": null,
            "margin": null,
            "max_height": null,
            "max_width": null,
            "min_height": null,
            "min_width": null,
            "object_fit": null,
            "object_position": null,
            "order": null,
            "overflow": null,
            "overflow_x": null,
            "overflow_y": null,
            "padding": null,
            "right": null,
            "top": null,
            "visibility": null,
            "width": null
          }
        },
        "7ee0c2c0d54e4d69a40813719e43c551": {
          "model_module": "@jupyter-widgets/base",
          "model_name": "LayoutModel",
          "model_module_version": "1.2.0",
          "state": {
            "_model_module": "@jupyter-widgets/base",
            "_model_module_version": "1.2.0",
            "_model_name": "LayoutModel",
            "_view_count": null,
            "_view_module": "@jupyter-widgets/base",
            "_view_module_version": "1.2.0",
            "_view_name": "LayoutView",
            "align_content": null,
            "align_items": null,
            "align_self": null,
            "border": null,
            "bottom": null,
            "display": null,
            "flex": null,
            "flex_flow": null,
            "grid_area": null,
            "grid_auto_columns": null,
            "grid_auto_flow": null,
            "grid_auto_rows": null,
            "grid_column": null,
            "grid_gap": null,
            "grid_row": null,
            "grid_template_areas": null,
            "grid_template_columns": null,
            "grid_template_rows": null,
            "height": null,
            "justify_content": null,
            "justify_items": null,
            "left": null,
            "margin": null,
            "max_height": null,
            "max_width": null,
            "min_height": null,
            "min_width": null,
            "object_fit": null,
            "object_position": null,
            "order": null,
            "overflow": null,
            "overflow_x": null,
            "overflow_y": null,
            "padding": null,
            "right": null,
            "top": null,
            "visibility": null,
            "width": null
          }
        },
        "f1ec244c70244823acbd03d5766ba47a": {
          "model_module": "@jupyter-widgets/controls",
          "model_name": "DescriptionStyleModel",
          "model_module_version": "1.5.0",
          "state": {
            "_model_module": "@jupyter-widgets/controls",
            "_model_module_version": "1.5.0",
            "_model_name": "DescriptionStyleModel",
            "_view_count": null,
            "_view_module": "@jupyter-widgets/base",
            "_view_module_version": "1.2.0",
            "_view_name": "StyleView",
            "description_width": ""
          }
        },
        "2dc33a82ce16407a8217a7b8c6a30d59": {
          "model_module": "@jupyter-widgets/base",
          "model_name": "LayoutModel",
          "model_module_version": "1.2.0",
          "state": {
            "_model_module": "@jupyter-widgets/base",
            "_model_module_version": "1.2.0",
            "_model_name": "LayoutModel",
            "_view_count": null,
            "_view_module": "@jupyter-widgets/base",
            "_view_module_version": "1.2.0",
            "_view_name": "LayoutView",
            "align_content": null,
            "align_items": null,
            "align_self": null,
            "border": null,
            "bottom": null,
            "display": null,
            "flex": null,
            "flex_flow": null,
            "grid_area": null,
            "grid_auto_columns": null,
            "grid_auto_flow": null,
            "grid_auto_rows": null,
            "grid_column": null,
            "grid_gap": null,
            "grid_row": null,
            "grid_template_areas": null,
            "grid_template_columns": null,
            "grid_template_rows": null,
            "height": null,
            "justify_content": null,
            "justify_items": null,
            "left": null,
            "margin": null,
            "max_height": null,
            "max_width": null,
            "min_height": null,
            "min_width": null,
            "object_fit": null,
            "object_position": null,
            "order": null,
            "overflow": null,
            "overflow_x": null,
            "overflow_y": null,
            "padding": null,
            "right": null,
            "top": null,
            "visibility": null,
            "width": null
          }
        },
        "3897f95814844d36b63d3c03751afa95": {
          "model_module": "@jupyter-widgets/controls",
          "model_name": "ProgressStyleModel",
          "model_module_version": "1.5.0",
          "state": {
            "_model_module": "@jupyter-widgets/controls",
            "_model_module_version": "1.5.0",
            "_model_name": "ProgressStyleModel",
            "_view_count": null,
            "_view_module": "@jupyter-widgets/base",
            "_view_module_version": "1.2.0",
            "_view_name": "StyleView",
            "bar_color": null,
            "description_width": ""
          }
        },
        "26e26d06158441bc91544c47c5643f87": {
          "model_module": "@jupyter-widgets/base",
          "model_name": "LayoutModel",
          "model_module_version": "1.2.0",
          "state": {
            "_model_module": "@jupyter-widgets/base",
            "_model_module_version": "1.2.0",
            "_model_name": "LayoutModel",
            "_view_count": null,
            "_view_module": "@jupyter-widgets/base",
            "_view_module_version": "1.2.0",
            "_view_name": "LayoutView",
            "align_content": null,
            "align_items": null,
            "align_self": null,
            "border": null,
            "bottom": null,
            "display": null,
            "flex": null,
            "flex_flow": null,
            "grid_area": null,
            "grid_auto_columns": null,
            "grid_auto_flow": null,
            "grid_auto_rows": null,
            "grid_column": null,
            "grid_gap": null,
            "grid_row": null,
            "grid_template_areas": null,
            "grid_template_columns": null,
            "grid_template_rows": null,
            "height": null,
            "justify_content": null,
            "justify_items": null,
            "left": null,
            "margin": null,
            "max_height": null,
            "max_width": null,
            "min_height": null,
            "min_width": null,
            "object_fit": null,
            "object_position": null,
            "order": null,
            "overflow": null,
            "overflow_x": null,
            "overflow_y": null,
            "padding": null,
            "right": null,
            "top": null,
            "visibility": null,
            "width": null
          }
        },
        "96143e38ef43453eb2ad2fad4841d421": {
          "model_module": "@jupyter-widgets/controls",
          "model_name": "DescriptionStyleModel",
          "model_module_version": "1.5.0",
          "state": {
            "_model_module": "@jupyter-widgets/controls",
            "_model_module_version": "1.5.0",
            "_model_name": "DescriptionStyleModel",
            "_view_count": null,
            "_view_module": "@jupyter-widgets/base",
            "_view_module_version": "1.2.0",
            "_view_name": "StyleView",
            "description_width": ""
          }
        },
        "ef5718df9a5f4d568c4ba8b3d150dffa": {
          "model_module": "@jupyter-widgets/controls",
          "model_name": "HBoxModel",
          "model_module_version": "1.5.0",
          "state": {
            "_dom_classes": [],
            "_model_module": "@jupyter-widgets/controls",
            "_model_module_version": "1.5.0",
            "_model_name": "HBoxModel",
            "_view_count": null,
            "_view_module": "@jupyter-widgets/controls",
            "_view_module_version": "1.5.0",
            "_view_name": "HBoxView",
            "box_style": "",
            "children": [
              "IPY_MODEL_2c169665a7a74d4f8af23e64e4c8bfa7",
              "IPY_MODEL_4e50d6e75753428dacf65f90ff58674c",
              "IPY_MODEL_aa463c46de874083ada42c5855d95c11"
            ],
            "layout": "IPY_MODEL_99dc20acc93943aca01673be14852975"
          }
        },
        "2c169665a7a74d4f8af23e64e4c8bfa7": {
          "model_module": "@jupyter-widgets/controls",
          "model_name": "HTMLModel",
          "model_module_version": "1.5.0",
          "state": {
            "_dom_classes": [],
            "_model_module": "@jupyter-widgets/controls",
            "_model_module_version": "1.5.0",
            "_model_name": "HTMLModel",
            "_view_count": null,
            "_view_module": "@jupyter-widgets/controls",
            "_view_module_version": "1.5.0",
            "_view_name": "HTMLView",
            "description": "",
            "description_tooltip": null,
            "layout": "IPY_MODEL_d2691990b55d4a4e98fc8367863ee5f0",
            "placeholder": "​",
            "style": "IPY_MODEL_a5661a7c3a9646bb802f96a38792769d",
            "value": "merges.txt: 100%"
          }
        },
        "4e50d6e75753428dacf65f90ff58674c": {
          "model_module": "@jupyter-widgets/controls",
          "model_name": "FloatProgressModel",
          "model_module_version": "1.5.0",
          "state": {
            "_dom_classes": [],
            "_model_module": "@jupyter-widgets/controls",
            "_model_module_version": "1.5.0",
            "_model_name": "FloatProgressModel",
            "_view_count": null,
            "_view_module": "@jupyter-widgets/controls",
            "_view_module_version": "1.5.0",
            "_view_name": "ProgressView",
            "bar_style": "success",
            "description": "",
            "description_tooltip": null,
            "layout": "IPY_MODEL_8ff18831c13143d497ac56c56382860f",
            "max": 456318,
            "min": 0,
            "orientation": "horizontal",
            "style": "IPY_MODEL_80408a543deb42638feee30ab759ef18",
            "value": 456318
          }
        },
        "aa463c46de874083ada42c5855d95c11": {
          "model_module": "@jupyter-widgets/controls",
          "model_name": "HTMLModel",
          "model_module_version": "1.5.0",
          "state": {
            "_dom_classes": [],
            "_model_module": "@jupyter-widgets/controls",
            "_model_module_version": "1.5.0",
            "_model_name": "HTMLModel",
            "_view_count": null,
            "_view_module": "@jupyter-widgets/controls",
            "_view_module_version": "1.5.0",
            "_view_name": "HTMLView",
            "description": "",
            "description_tooltip": null,
            "layout": "IPY_MODEL_1ca29f6f07cb4578b9eb314ae962ec4a",
            "placeholder": "​",
            "style": "IPY_MODEL_5d0b311d015e48f1ba080453965a74ea",
            "value": " 456k/456k [00:00&lt;00:00, 28.9MB/s]"
          }
        },
        "99dc20acc93943aca01673be14852975": {
          "model_module": "@jupyter-widgets/base",
          "model_name": "LayoutModel",
          "model_module_version": "1.2.0",
          "state": {
            "_model_module": "@jupyter-widgets/base",
            "_model_module_version": "1.2.0",
            "_model_name": "LayoutModel",
            "_view_count": null,
            "_view_module": "@jupyter-widgets/base",
            "_view_module_version": "1.2.0",
            "_view_name": "LayoutView",
            "align_content": null,
            "align_items": null,
            "align_self": null,
            "border": null,
            "bottom": null,
            "display": null,
            "flex": null,
            "flex_flow": null,
            "grid_area": null,
            "grid_auto_columns": null,
            "grid_auto_flow": null,
            "grid_auto_rows": null,
            "grid_column": null,
            "grid_gap": null,
            "grid_row": null,
            "grid_template_areas": null,
            "grid_template_columns": null,
            "grid_template_rows": null,
            "height": null,
            "justify_content": null,
            "justify_items": null,
            "left": null,
            "margin": null,
            "max_height": null,
            "max_width": null,
            "min_height": null,
            "min_width": null,
            "object_fit": null,
            "object_position": null,
            "order": null,
            "overflow": null,
            "overflow_x": null,
            "overflow_y": null,
            "padding": null,
            "right": null,
            "top": null,
            "visibility": null,
            "width": null
          }
        },
        "d2691990b55d4a4e98fc8367863ee5f0": {
          "model_module": "@jupyter-widgets/base",
          "model_name": "LayoutModel",
          "model_module_version": "1.2.0",
          "state": {
            "_model_module": "@jupyter-widgets/base",
            "_model_module_version": "1.2.0",
            "_model_name": "LayoutModel",
            "_view_count": null,
            "_view_module": "@jupyter-widgets/base",
            "_view_module_version": "1.2.0",
            "_view_name": "LayoutView",
            "align_content": null,
            "align_items": null,
            "align_self": null,
            "border": null,
            "bottom": null,
            "display": null,
            "flex": null,
            "flex_flow": null,
            "grid_area": null,
            "grid_auto_columns": null,
            "grid_auto_flow": null,
            "grid_auto_rows": null,
            "grid_column": null,
            "grid_gap": null,
            "grid_row": null,
            "grid_template_areas": null,
            "grid_template_columns": null,
            "grid_template_rows": null,
            "height": null,
            "justify_content": null,
            "justify_items": null,
            "left": null,
            "margin": null,
            "max_height": null,
            "max_width": null,
            "min_height": null,
            "min_width": null,
            "object_fit": null,
            "object_position": null,
            "order": null,
            "overflow": null,
            "overflow_x": null,
            "overflow_y": null,
            "padding": null,
            "right": null,
            "top": null,
            "visibility": null,
            "width": null
          }
        },
        "a5661a7c3a9646bb802f96a38792769d": {
          "model_module": "@jupyter-widgets/controls",
          "model_name": "DescriptionStyleModel",
          "model_module_version": "1.5.0",
          "state": {
            "_model_module": "@jupyter-widgets/controls",
            "_model_module_version": "1.5.0",
            "_model_name": "DescriptionStyleModel",
            "_view_count": null,
            "_view_module": "@jupyter-widgets/base",
            "_view_module_version": "1.2.0",
            "_view_name": "StyleView",
            "description_width": ""
          }
        },
        "8ff18831c13143d497ac56c56382860f": {
          "model_module": "@jupyter-widgets/base",
          "model_name": "LayoutModel",
          "model_module_version": "1.2.0",
          "state": {
            "_model_module": "@jupyter-widgets/base",
            "_model_module_version": "1.2.0",
            "_model_name": "LayoutModel",
            "_view_count": null,
            "_view_module": "@jupyter-widgets/base",
            "_view_module_version": "1.2.0",
            "_view_name": "LayoutView",
            "align_content": null,
            "align_items": null,
            "align_self": null,
            "border": null,
            "bottom": null,
            "display": null,
            "flex": null,
            "flex_flow": null,
            "grid_area": null,
            "grid_auto_columns": null,
            "grid_auto_flow": null,
            "grid_auto_rows": null,
            "grid_column": null,
            "grid_gap": null,
            "grid_row": null,
            "grid_template_areas": null,
            "grid_template_columns": null,
            "grid_template_rows": null,
            "height": null,
            "justify_content": null,
            "justify_items": null,
            "left": null,
            "margin": null,
            "max_height": null,
            "max_width": null,
            "min_height": null,
            "min_width": null,
            "object_fit": null,
            "object_position": null,
            "order": null,
            "overflow": null,
            "overflow_x": null,
            "overflow_y": null,
            "padding": null,
            "right": null,
            "top": null,
            "visibility": null,
            "width": null
          }
        },
        "80408a543deb42638feee30ab759ef18": {
          "model_module": "@jupyter-widgets/controls",
          "model_name": "ProgressStyleModel",
          "model_module_version": "1.5.0",
          "state": {
            "_model_module": "@jupyter-widgets/controls",
            "_model_module_version": "1.5.0",
            "_model_name": "ProgressStyleModel",
            "_view_count": null,
            "_view_module": "@jupyter-widgets/base",
            "_view_module_version": "1.2.0",
            "_view_name": "StyleView",
            "bar_color": null,
            "description_width": ""
          }
        },
        "1ca29f6f07cb4578b9eb314ae962ec4a": {
          "model_module": "@jupyter-widgets/base",
          "model_name": "LayoutModel",
          "model_module_version": "1.2.0",
          "state": {
            "_model_module": "@jupyter-widgets/base",
            "_model_module_version": "1.2.0",
            "_model_name": "LayoutModel",
            "_view_count": null,
            "_view_module": "@jupyter-widgets/base",
            "_view_module_version": "1.2.0",
            "_view_name": "LayoutView",
            "align_content": null,
            "align_items": null,
            "align_self": null,
            "border": null,
            "bottom": null,
            "display": null,
            "flex": null,
            "flex_flow": null,
            "grid_area": null,
            "grid_auto_columns": null,
            "grid_auto_flow": null,
            "grid_auto_rows": null,
            "grid_column": null,
            "grid_gap": null,
            "grid_row": null,
            "grid_template_areas": null,
            "grid_template_columns": null,
            "grid_template_rows": null,
            "height": null,
            "justify_content": null,
            "justify_items": null,
            "left": null,
            "margin": null,
            "max_height": null,
            "max_width": null,
            "min_height": null,
            "min_width": null,
            "object_fit": null,
            "object_position": null,
            "order": null,
            "overflow": null,
            "overflow_x": null,
            "overflow_y": null,
            "padding": null,
            "right": null,
            "top": null,
            "visibility": null,
            "width": null
          }
        },
        "5d0b311d015e48f1ba080453965a74ea": {
          "model_module": "@jupyter-widgets/controls",
          "model_name": "DescriptionStyleModel",
          "model_module_version": "1.5.0",
          "state": {
            "_model_module": "@jupyter-widgets/controls",
            "_model_module_version": "1.5.0",
            "_model_name": "DescriptionStyleModel",
            "_view_count": null,
            "_view_module": "@jupyter-widgets/base",
            "_view_module_version": "1.2.0",
            "_view_name": "StyleView",
            "description_width": ""
          }
        },
        "eae6441c1455468ea2183a326b546ce6": {
          "model_module": "@jupyter-widgets/controls",
          "model_name": "HBoxModel",
          "model_module_version": "1.5.0",
          "state": {
            "_dom_classes": [],
            "_model_module": "@jupyter-widgets/controls",
            "_model_module_version": "1.5.0",
            "_model_name": "HBoxModel",
            "_view_count": null,
            "_view_module": "@jupyter-widgets/controls",
            "_view_module_version": "1.5.0",
            "_view_name": "HBoxView",
            "box_style": "",
            "children": [
              "IPY_MODEL_71522dd6bd504ca2ac0e4396295afc4e",
              "IPY_MODEL_75877b2d8b0546fdbf228d652b939d2d",
              "IPY_MODEL_c2f1d8fa950948fc82c927f305642a5f"
            ],
            "layout": "IPY_MODEL_f0a784aee218492d81362ef565da91a8"
          }
        },
        "71522dd6bd504ca2ac0e4396295afc4e": {
          "model_module": "@jupyter-widgets/controls",
          "model_name": "HTMLModel",
          "model_module_version": "1.5.0",
          "state": {
            "_dom_classes": [],
            "_model_module": "@jupyter-widgets/controls",
            "_model_module_version": "1.5.0",
            "_model_name": "HTMLModel",
            "_view_count": null,
            "_view_module": "@jupyter-widgets/controls",
            "_view_module_version": "1.5.0",
            "_view_name": "HTMLView",
            "description": "",
            "description_tooltip": null,
            "layout": "IPY_MODEL_eb8d175392d140b899752e934e6ddbfc",
            "placeholder": "​",
            "style": "IPY_MODEL_fb848cc541f34b27b9ae8a512a30e471",
            "value": "special_tokens_map.json: 100%"
          }
        },
        "75877b2d8b0546fdbf228d652b939d2d": {
          "model_module": "@jupyter-widgets/controls",
          "model_name": "FloatProgressModel",
          "model_module_version": "1.5.0",
          "state": {
            "_dom_classes": [],
            "_model_module": "@jupyter-widgets/controls",
            "_model_module_version": "1.5.0",
            "_model_name": "FloatProgressModel",
            "_view_count": null,
            "_view_module": "@jupyter-widgets/controls",
            "_view_module_version": "1.5.0",
            "_view_name": "ProgressView",
            "bar_style": "success",
            "description": "",
            "description_tooltip": null,
            "layout": "IPY_MODEL_0a3e1a4aa8a64f109f856b914cace695",
            "max": 441,
            "min": 0,
            "orientation": "horizontal",
            "style": "IPY_MODEL_59a544c0fa3043cf874915f7f857f06a",
            "value": 441
          }
        },
        "c2f1d8fa950948fc82c927f305642a5f": {
          "model_module": "@jupyter-widgets/controls",
          "model_name": "HTMLModel",
          "model_module_version": "1.5.0",
          "state": {
            "_dom_classes": [],
            "_model_module": "@jupyter-widgets/controls",
            "_model_module_version": "1.5.0",
            "_model_name": "HTMLModel",
            "_view_count": null,
            "_view_module": "@jupyter-widgets/controls",
            "_view_module_version": "1.5.0",
            "_view_name": "HTMLView",
            "description": "",
            "description_tooltip": null,
            "layout": "IPY_MODEL_0296f1588fff43fb898890c38a4e806e",
            "placeholder": "​",
            "style": "IPY_MODEL_3c87de465b194d479d0124399a4efdc1",
            "value": " 441/441 [00:00&lt;00:00, 25.7kB/s]"
          }
        },
        "f0a784aee218492d81362ef565da91a8": {
          "model_module": "@jupyter-widgets/base",
          "model_name": "LayoutModel",
          "model_module_version": "1.2.0",
          "state": {
            "_model_module": "@jupyter-widgets/base",
            "_model_module_version": "1.2.0",
            "_model_name": "LayoutModel",
            "_view_count": null,
            "_view_module": "@jupyter-widgets/base",
            "_view_module_version": "1.2.0",
            "_view_name": "LayoutView",
            "align_content": null,
            "align_items": null,
            "align_self": null,
            "border": null,
            "bottom": null,
            "display": null,
            "flex": null,
            "flex_flow": null,
            "grid_area": null,
            "grid_auto_columns": null,
            "grid_auto_flow": null,
            "grid_auto_rows": null,
            "grid_column": null,
            "grid_gap": null,
            "grid_row": null,
            "grid_template_areas": null,
            "grid_template_columns": null,
            "grid_template_rows": null,
            "height": null,
            "justify_content": null,
            "justify_items": null,
            "left": null,
            "margin": null,
            "max_height": null,
            "max_width": null,
            "min_height": null,
            "min_width": null,
            "object_fit": null,
            "object_position": null,
            "order": null,
            "overflow": null,
            "overflow_x": null,
            "overflow_y": null,
            "padding": null,
            "right": null,
            "top": null,
            "visibility": null,
            "width": null
          }
        },
        "eb8d175392d140b899752e934e6ddbfc": {
          "model_module": "@jupyter-widgets/base",
          "model_name": "LayoutModel",
          "model_module_version": "1.2.0",
          "state": {
            "_model_module": "@jupyter-widgets/base",
            "_model_module_version": "1.2.0",
            "_model_name": "LayoutModel",
            "_view_count": null,
            "_view_module": "@jupyter-widgets/base",
            "_view_module_version": "1.2.0",
            "_view_name": "LayoutView",
            "align_content": null,
            "align_items": null,
            "align_self": null,
            "border": null,
            "bottom": null,
            "display": null,
            "flex": null,
            "flex_flow": null,
            "grid_area": null,
            "grid_auto_columns": null,
            "grid_auto_flow": null,
            "grid_auto_rows": null,
            "grid_column": null,
            "grid_gap": null,
            "grid_row": null,
            "grid_template_areas": null,
            "grid_template_columns": null,
            "grid_template_rows": null,
            "height": null,
            "justify_content": null,
            "justify_items": null,
            "left": null,
            "margin": null,
            "max_height": null,
            "max_width": null,
            "min_height": null,
            "min_width": null,
            "object_fit": null,
            "object_position": null,
            "order": null,
            "overflow": null,
            "overflow_x": null,
            "overflow_y": null,
            "padding": null,
            "right": null,
            "top": null,
            "visibility": null,
            "width": null
          }
        },
        "fb848cc541f34b27b9ae8a512a30e471": {
          "model_module": "@jupyter-widgets/controls",
          "model_name": "DescriptionStyleModel",
          "model_module_version": "1.5.0",
          "state": {
            "_model_module": "@jupyter-widgets/controls",
            "_model_module_version": "1.5.0",
            "_model_name": "DescriptionStyleModel",
            "_view_count": null,
            "_view_module": "@jupyter-widgets/base",
            "_view_module_version": "1.2.0",
            "_view_name": "StyleView",
            "description_width": ""
          }
        },
        "0a3e1a4aa8a64f109f856b914cace695": {
          "model_module": "@jupyter-widgets/base",
          "model_name": "LayoutModel",
          "model_module_version": "1.2.0",
          "state": {
            "_model_module": "@jupyter-widgets/base",
            "_model_module_version": "1.2.0",
            "_model_name": "LayoutModel",
            "_view_count": null,
            "_view_module": "@jupyter-widgets/base",
            "_view_module_version": "1.2.0",
            "_view_name": "LayoutView",
            "align_content": null,
            "align_items": null,
            "align_self": null,
            "border": null,
            "bottom": null,
            "display": null,
            "flex": null,
            "flex_flow": null,
            "grid_area": null,
            "grid_auto_columns": null,
            "grid_auto_flow": null,
            "grid_auto_rows": null,
            "grid_column": null,
            "grid_gap": null,
            "grid_row": null,
            "grid_template_areas": null,
            "grid_template_columns": null,
            "grid_template_rows": null,
            "height": null,
            "justify_content": null,
            "justify_items": null,
            "left": null,
            "margin": null,
            "max_height": null,
            "max_width": null,
            "min_height": null,
            "min_width": null,
            "object_fit": null,
            "object_position": null,
            "order": null,
            "overflow": null,
            "overflow_x": null,
            "overflow_y": null,
            "padding": null,
            "right": null,
            "top": null,
            "visibility": null,
            "width": null
          }
        },
        "59a544c0fa3043cf874915f7f857f06a": {
          "model_module": "@jupyter-widgets/controls",
          "model_name": "ProgressStyleModel",
          "model_module_version": "1.5.0",
          "state": {
            "_model_module": "@jupyter-widgets/controls",
            "_model_module_version": "1.5.0",
            "_model_name": "ProgressStyleModel",
            "_view_count": null,
            "_view_module": "@jupyter-widgets/base",
            "_view_module_version": "1.2.0",
            "_view_name": "StyleView",
            "bar_color": null,
            "description_width": ""
          }
        },
        "0296f1588fff43fb898890c38a4e806e": {
          "model_module": "@jupyter-widgets/base",
          "model_name": "LayoutModel",
          "model_module_version": "1.2.0",
          "state": {
            "_model_module": "@jupyter-widgets/base",
            "_model_module_version": "1.2.0",
            "_model_name": "LayoutModel",
            "_view_count": null,
            "_view_module": "@jupyter-widgets/base",
            "_view_module_version": "1.2.0",
            "_view_name": "LayoutView",
            "align_content": null,
            "align_items": null,
            "align_self": null,
            "border": null,
            "bottom": null,
            "display": null,
            "flex": null,
            "flex_flow": null,
            "grid_area": null,
            "grid_auto_columns": null,
            "grid_auto_flow": null,
            "grid_auto_rows": null,
            "grid_column": null,
            "grid_gap": null,
            "grid_row": null,
            "grid_template_areas": null,
            "grid_template_columns": null,
            "grid_template_rows": null,
            "height": null,
            "justify_content": null,
            "justify_items": null,
            "left": null,
            "margin": null,
            "max_height": null,
            "max_width": null,
            "min_height": null,
            "min_width": null,
            "object_fit": null,
            "object_position": null,
            "order": null,
            "overflow": null,
            "overflow_x": null,
            "overflow_y": null,
            "padding": null,
            "right": null,
            "top": null,
            "visibility": null,
            "width": null
          }
        },
        "3c87de465b194d479d0124399a4efdc1": {
          "model_module": "@jupyter-widgets/controls",
          "model_name": "DescriptionStyleModel",
          "model_module_version": "1.5.0",
          "state": {
            "_model_module": "@jupyter-widgets/controls",
            "_model_module_version": "1.5.0",
            "_model_name": "DescriptionStyleModel",
            "_view_count": null,
            "_view_module": "@jupyter-widgets/base",
            "_view_module_version": "1.2.0",
            "_view_name": "StyleView",
            "description_width": ""
          }
        }
      }
    }
  },
  "cells": [
    {
      "cell_type": "code",
      "execution_count": null,
      "metadata": {
        "colab": {
          "base_uri": "https://localhost:8080/"
        },
        "id": "g0FOIfDdfRj3",
        "outputId": "9a8529e7-6ebd-4bda-f89c-99a31f263d13"
      },
      "outputs": [
        {
          "output_type": "stream",
          "name": "stdout",
          "text": [
            "Mounted at /content/drive\n"
          ]
        }
      ],
      "source": [
        "from google.colab import drive\n",
        "drive.mount('/content/drive')\n"
      ]
    },
    {
      "cell_type": "code",
      "source": [
        "!ls /content/drive/MyDrive/factor"
      ],
      "metadata": {
        "colab": {
          "base_uri": "https://localhost:8080/"
        },
        "id": "W7W8InQsfa6G",
        "outputId": "c3b62de7-f406-4436-8583-ecc16eaa19cd"
      },
      "execution_count": null,
      "outputs": [
        {
          "output_type": "stream",
          "name": "stdout",
          "text": [
            "cache  eval_factuality.py      LICENSE\tREADME.md\n",
            "data   FACTOR_NEWS_LICENSE.md  output\trequirements.txt\n"
          ]
        }
      ]
    },
    {
      "cell_type": "code",
      "source": [
        "import argparse\n",
        "import os\n",
        "\n",
        "import numpy as np\n",
        "import pandas as pd\n",
        "import torch\n",
        "from torch.nn import CrossEntropyLoss\n",
        "from tqdm import tqdm\n",
        "from transformers import AutoConfig, AutoModelForCausalLM, AutoTokenizer\n",
        "\n",
        "# load data\n",
        "def extract_example(row):\n",
        "    return {'full_prefix': row.full_prefix, 'completion': row.completion,\n",
        "            'contradictions': [row.contradiction_0, row.contradiction_1, row.contradiction_2]}\n",
        "\n",
        "\n",
        "def read_data(path, prefix_col):\n",
        "    df = pd.read_csv(path)[[prefix_col, 'doc_id', 'completion', 'contradiction_0', 'contradiction_1', 'contradiction_2']]\n",
        "    df.rename(columns={prefix_col: 'full_prefix'}, inplace=True)\n",
        "    return df.apply(lambda row: extract_example(row), axis=1).to_list()\n",
        "\n",
        "# load model\n",
        "def load_tokenizer(model_name, max_tokens):\n",
        "    tokenizer = AutoTokenizer.from_pretrained(model_name, padding_side='right', truncation_side='left',\n",
        "                                              model_max_length=max_tokens)\n",
        "    tokenizer.pad_token = tokenizer.eos_token\n",
        "    return tokenizer\n",
        "\n",
        "\n",
        "def load_model_and_tokenizer(model_name, cache_dir=None, max_tokens=1024):\n",
        "    device = \"cuda\" if torch.cuda.is_available() else \"cpu\"\n",
        "    multi_gpus = torch.cuda.device_count() > 1\n",
        "    config = AutoConfig.from_pretrained(model_name)\n",
        "    model_args = {}\n",
        "    if cache_dir is not None and device != 'cpu':\n",
        "        model_args[\"cache_dir\"] = cache_dir\n",
        "    if multi_gpus:\n",
        "        model_args[\"device_map\"] = \"auto\"\n",
        "        model_args[\"low_cpu_mem_usage\"] = True\n",
        "    if hasattr(config, \"torch_dtype\") and config.torch_dtype is not None:\n",
        "        model_args[\"torch_dtype\"] = config.torch_dtype\n",
        "\n",
        "    model = AutoModelForCausalLM.from_pretrained(model_name, **model_args).eval()\n",
        "    if not multi_gpus:\n",
        "        model = model.to(device)\n",
        "    tokenizer = load_tokenizer(model_name, max_tokens)\n",
        "    print(model.dtype)\n",
        "    model.config.pad_token_id = model.config.eos_token_id\n",
        "    return model, tokenizer, device\n",
        "\n",
        "# prepare examples for evaluation\n",
        "def format_data(ex):\n",
        "    prefix = ex['full_prefix']\n",
        "    completion = ex['completion']\n",
        "    contradictions = ex['contradictions']\n",
        "\n",
        "    # make sure completion don't contain trailing spaces\n",
        "    completion = completion.lstrip(' ')\n",
        "    contradictions = [cont.lstrip(' ') for cont in contradictions]\n",
        "\n",
        "    # if the prefix ends with a new line, just concatenate.\n",
        "    # Else, add space to the completion, remove it from the prefix if necessary\n",
        "    if prefix.endswith(' '):\n",
        "        prefix = prefix[:-1]\n",
        "        batch = [f\"{prefix} {completion}\"] + [f\"{prefix} {cont}\" for cont in contradictions]\n",
        "        labels_batch = [f\" {completion}\"] + [f\" {cont}\" for cont in contradictions]\n",
        "    else:\n",
        "        batch = [f\"{prefix}{completion}\"] + [f\"{prefix}{cont}\" for cont in contradictions]\n",
        "        labels_batch = [completion] + contradictions\n",
        "    return batch, labels_batch\n",
        "\n",
        "\n",
        "def prep_batch(ex, tokenizer, device):\n",
        "    # prepare examples for tokenization\n",
        "    batch, labels_batch = format_data(ex)\n",
        "    # encode full text (context + completions)\n",
        "    encoding = tokenizer(batch, padding=True, truncation=True, return_tensors='pt', add_special_tokens=False).to(device)\n",
        "    encoding = {k: v.to(device) for k, v in encoding.items()}\n",
        "    input_ids = encoding['input_ids']\n",
        "    # extract labels from input text\n",
        "    labels_encoding = tokenizer(labels_batch, padding=True, truncation=True, return_tensors='pt', add_special_tokens=False).to(device)\n",
        "    input_lens = torch.sum(encoding['attention_mask'], axis=-1).to(device)\n",
        "    target_lens = torch.sum(labels_encoding['attention_mask'], axis=-1).to(device)\n",
        "    offsets = input_lens - target_lens\n",
        "    positions = torch.arange(0, encoding['input_ids'].size(-1))[None, :].to(device)\n",
        "    labels_mask = (positions >= offsets[:, None]) * encoding['attention_mask']\n",
        "\n",
        "    labels = input_ids*labels_mask + (-100)*(1-labels_mask)\n",
        "\n",
        "    # assert all labels match\n",
        "    for input_id, label, target_len, offset, comp in zip(input_ids, labels, target_lens, offsets, labels_batch):\n",
        "        assert torch.all(input_id[offset: offset + target_len].eq(label[offset:offset+target_len])), \"labels don't appear in input ids\"\n",
        "        assert torch.all(label[:offset] == -100), \"labels include redundant prefix\"\n",
        "        assert torch.all(label[offset + target_len:] == -100), \"labels include redundant suffix\"\n",
        "    encoding = {k: v.to(device) for k, v in encoding.items()}\n",
        "    return encoding, labels, target_lens\n",
        "\n",
        "\n",
        "def get_losses(logits, labels):\n",
        "    loss_fct = CrossEntropyLoss(reduction=\"none\")\n",
        "    nll = loss_fct(logits.reshape(-1, logits.size(-1)), labels.reshape(-1)).cpu()\n",
        "    nll = nll.view(labels.size())\n",
        "    return nll\n",
        "\n",
        "import nltk\n",
        "from nltk import pos_tag\n",
        "from nltk.tokenize import word_tokenize\n",
        "\n",
        "# Download the NLTK data (you only need to do this once)\n",
        "nltk.download('punkt')\n",
        "nltk.download('averaged_perceptron_tagger')\n",
        "\n",
        "def find_word_differences(sentence_a, sentence_b):\n",
        "    words_a = set(sentence_a.split())\n",
        "    words_b = set(sentence_b.split())\n",
        "\n",
        "    words_only_in_a = words_a - words_b\n",
        "    words_only_in_b = words_b - words_a\n",
        "\n",
        "    return words_only_in_a, words_only_in_b\n",
        "\n",
        "def get_part_of_speech(word):\n",
        "    # Tokenize the word\n",
        "    words = word_tokenize(word)\n",
        "\n",
        "    # Perform part-of-speech tagging\n",
        "    pos_tags = pos_tag(words)\n",
        "\n",
        "    # Return the part of speech of the word\n",
        "    return pos_tags[0][1] if pos_tags else None\n",
        "\n",
        "def determine_error_type(sentence1, sentence2):\n",
        "  differences_a, differences_b = find_word_differences(sentence1, sentence2)\n",
        "  pos_a = []\n",
        "  pos_b = []\n",
        "  for ele in differences_a:\n",
        "    pos_a.append(get_part_of_speech(ele))\n",
        "  for ele in differences_b:\n",
        "    pos_b.append(get_part_of_speech(ele))\n",
        "\n",
        "  if 'PRP' in pos_b or 'PRP$' in pos_b or 'PRP' in pos_a or 'PRP$' in pos_a:\n",
        "      error_type = 'Coreference'\n",
        "  elif len(pos_b) > 3 or 'JJ' in pos_b or 'JJS' in pos_b or 'JJR' in pos_b:\n",
        "      error_type = 'Entity'\n",
        "  elif 'VB' in pos_b or 'VBD' in pos_b or 'VBD' in pos_b or 'VBN' in pos_b or 'VBP' in pos_b or 'VBZ' in pos_b or 'RB' in pos_b or 'RBR' in pos_b or 'RBS' in pos_b:\n",
        "      error_type = 'Predicate'\n",
        "  elif 'NN' in pos_b or 'NNP' in pos_b or 'NNS' in pos_b or 'NNPS' in pos_b or 'CD' in pos_b:\n",
        "      error_type = 'Circumstance'\n",
        "  elif 'IN' in pos_b:\n",
        "      error_type = 'Link'\n",
        "  else:\n",
        "      error_type = 'Unclear'\n",
        "  return error_type\n",
        "\n",
        "def run_eval(model, tokenizer, data, device):\n",
        "    all_scores = torch.empty((len(data), 4))\n",
        "    fault_record = {'Coreference':0, 'Entity':0, 'Predicate':0, 'Circumstance':0, 'Link':0, 'Unclear':0}\n",
        "    fault_num = {'Coreference':0, 'Entity':0, 'Predicate':0, 'Circumstance':0, 'Link':0, 'Unclear':0}\n",
        "    for i, ex in tqdm(enumerate(data)):\n",
        "        input_ids, target, target_lens = prep_batch(ex, tokenizer, device=device)\n",
        "        with torch.no_grad():\n",
        "            out = model(**input_ids)\n",
        "            nll = get_losses(out.logits[..., :-1, :], target[:, 1:])\n",
        "\n",
        "        # get scores for the full the sequence\n",
        "        scores = torch.sum(nll, axis=-1)\n",
        "        scores = scores / target_lens.to('cpu')\n",
        "        all_scores[i] = scores\n",
        "        for j in range(1,4):\n",
        "            fake = ex['contradictions'][j-1]\n",
        "            real = ex['completion']\n",
        "            error_type = determine_error_type(real, fake)\n",
        "            fault_num[error_type] += 1\n",
        "            if np.argmin(np.array(scores.tolist())) == j:\n",
        "                fault_record[error_type] += 1\n",
        "        if i % 100 == 0:\n",
        "            acc = np.sum(np.argmin(np.array(all_scores[:(i+1), :].tolist()), axis=1) == 0) / (i+1)\n",
        "            print(f\"processed: {i+1}/{len(data)} examples. accuracy: {acc}\")\n",
        "    for key in fault_record:\n",
        "        if fault_num[key] != 0:\n",
        "            fault_record[key] /= fault_num[key]\n",
        "    return all_scores, fault_record\n",
        "\n",
        "\n",
        "def main(data_file, output_folder, model_name, max_tokens, cache_dir):\n",
        "    prefix_col = 'turncated_prefixes'\n",
        "    data = read_data(data_file, prefix_col)\n",
        "    model, tokenizer, device = load_model_and_tokenizer(model_name, cache_dir, max_tokens=max_tokens)\n",
        "    all_scores, fault_record = run_eval(model, tokenizer, data, device)\n",
        "    data = pd.DataFrame(data)\n",
        "    data['scores'] = list(all_scores.to('cpu').numpy())\n",
        "    acc = np.sum(np.argmin(np.array(data['scores'].to_list()), axis=1) == 0) / len(data)\n",
        "    print(f\"acc = {acc}\")\n",
        "    for key in fault_record:\n",
        "        print(f'{key} error: {fault_record[key]}')\n",
        "    data.to_json(get_results_path(output_folder, model_name), lines=True,\n",
        "                 orient='records')\n",
        "    print(\"Done!\")\n",
        "\n",
        "\n",
        "def get_results_path(output_folder, model_name):\n",
        "    return os.path.join(output_folder, model_name.split('/')[-1] + '.jsonl')\n",
        "\n",
        "'''\n",
        "data_file = \"/content/drive/MyDrive/factor/data/wiki_factor.csv\"\n",
        "output_folder = \"/content/drive/MyDrive/factor/output\"\n",
        "model_name = 'gpt2'\n",
        "max_tokens = 1024\n",
        "cache_dir = \"/content/drive/MyDrive/factor/cache\"\n",
        "main(data_file, output_folder, model_name, max_tokens, cache_dir)\n",
        "'''"
      ],
      "metadata": {
        "colab": {
          "base_uri": "https://localhost:8080/",
          "height": 195
        },
        "id": "3KiVuNY-hFgR",
        "outputId": "ea503659-a33f-4bd3-e84a-299e9a59fadf"
      },
      "execution_count": null,
      "outputs": [
        {
          "output_type": "stream",
          "name": "stderr",
          "text": [
            "[nltk_data] Downloading package punkt to /root/nltk_data...\n",
            "[nltk_data]   Package punkt is already up-to-date!\n",
            "[nltk_data] Downloading package averaged_perceptron_tagger to\n",
            "[nltk_data]     /root/nltk_data...\n",
            "[nltk_data]   Package averaged_perceptron_tagger is already up-to-\n",
            "[nltk_data]       date!\n"
          ]
        },
        {
          "output_type": "execute_result",
          "data": {
            "text/plain": [
              "'\\ndata_file = \"/content/drive/MyDrive/factor/data/wiki_factor.csv\"\\noutput_folder = \"/content/drive/MyDrive/factor/output\"\\nmodel_name = \\'gpt2\\'\\nmax_tokens = 1024\\ncache_dir = \"/content/drive/MyDrive/factor/cache\"\\nmain(data_file, output_folder, model_name, max_tokens, cache_dir)\\n'"
            ],
            "application/vnd.google.colaboratory.intrinsic+json": {
              "type": "string"
            }
          },
          "metadata": {},
          "execution_count": 4
        }
      ]
    },
    {
      "cell_type": "code",
      "source": [
        "\n",
        "data_file = \"/content/drive/MyDrive/factor/data/wiki_factor.csv\"\n",
        "output_folder = \"/content/drive/MyDrive/factor/output\"\n",
        "model_name = 'EleutherAI/gpt-neo-1.3B'\n",
        "max_tokens = 1024\n",
        "cache_dir = \"/content/drive/MyDrive/factor/cache\"\n",
        "main(data_file, output_folder, model_name, max_tokens, cache_dir)"
      ],
      "metadata": {
        "id": "QynPb3Yj6VAd",
        "colab": {
          "base_uri": "https://localhost:8080/"
        },
        "outputId": "20a5ca9c-a894-4e96-c1d4-cc05febd856b"
      },
      "execution_count": null,
      "outputs": [
        {
          "output_type": "stream",
          "name": "stdout",
          "text": [
            "torch.float32\n"
          ]
        },
        {
          "output_type": "stream",
          "name": "stderr",
          "text": [
            "1it [00:03,  3.12s/it]"
          ]
        },
        {
          "output_type": "stream",
          "name": "stdout",
          "text": [
            "processed: 1/2994 examples. accuracy: 1.0\n"
          ]
        },
        {
          "output_type": "stream",
          "name": "stderr",
          "text": [
            "101it [02:16,  1.11s/it]"
          ]
        },
        {
          "output_type": "stream",
          "name": "stdout",
          "text": [
            "processed: 101/2994 examples. accuracy: 0.46534653465346537\n"
          ]
        },
        {
          "output_type": "stream",
          "name": "stderr",
          "text": [
            "201it [04:28,  1.93s/it]"
          ]
        },
        {
          "output_type": "stream",
          "name": "stdout",
          "text": [
            "processed: 201/2994 examples. accuracy: 0.4079601990049751\n"
          ]
        },
        {
          "output_type": "stream",
          "name": "stderr",
          "text": [
            "301it [06:47,  1.66s/it]"
          ]
        },
        {
          "output_type": "stream",
          "name": "stdout",
          "text": [
            "processed: 301/2994 examples. accuracy: 0.4152823920265781\n"
          ]
        },
        {
          "output_type": "stream",
          "name": "stderr",
          "text": [
            "401it [09:13,  1.27s/it]"
          ]
        },
        {
          "output_type": "stream",
          "name": "stdout",
          "text": [
            "processed: 401/2994 examples. accuracy: 0.4114713216957606\n"
          ]
        },
        {
          "output_type": "stream",
          "name": "stderr",
          "text": [
            "501it [11:40,  2.13s/it]"
          ]
        },
        {
          "output_type": "stream",
          "name": "stdout",
          "text": [
            "processed: 501/2994 examples. accuracy: 0.43313373253493015\n"
          ]
        },
        {
          "output_type": "stream",
          "name": "stderr",
          "text": [
            "601it [14:05,  1.06s/it]"
          ]
        },
        {
          "output_type": "stream",
          "name": "stdout",
          "text": [
            "processed: 601/2994 examples. accuracy: 0.4209650582362729\n"
          ]
        },
        {
          "output_type": "stream",
          "name": "stderr",
          "text": [
            "701it [16:45,  1.21s/it]"
          ]
        },
        {
          "output_type": "stream",
          "name": "stdout",
          "text": [
            "processed: 701/2994 examples. accuracy: 0.4094151212553495\n"
          ]
        },
        {
          "output_type": "stream",
          "name": "stderr",
          "text": [
            "801it [19:15,  1.13s/it]"
          ]
        },
        {
          "output_type": "stream",
          "name": "stdout",
          "text": [
            "processed: 801/2994 examples. accuracy: 0.41448189762796506\n"
          ]
        },
        {
          "output_type": "stream",
          "name": "stderr",
          "text": [
            "901it [21:34,  1.53s/it]"
          ]
        },
        {
          "output_type": "stream",
          "name": "stdout",
          "text": [
            "processed: 901/2994 examples. accuracy: 0.4239733629300777\n"
          ]
        },
        {
          "output_type": "stream",
          "name": "stderr",
          "text": [
            "1001it [24:06,  1.64s/it]"
          ]
        },
        {
          "output_type": "stream",
          "name": "stdout",
          "text": [
            "processed: 1001/2994 examples. accuracy: 0.4125874125874126\n"
          ]
        },
        {
          "output_type": "stream",
          "name": "stderr",
          "text": [
            "1101it [26:36,  1.55it/s]"
          ]
        },
        {
          "output_type": "stream",
          "name": "stdout",
          "text": [
            "processed: 1101/2994 examples. accuracy: 0.4123524069028156\n"
          ]
        },
        {
          "output_type": "stream",
          "name": "stderr",
          "text": [
            "1201it [29:05,  1.63s/it]"
          ]
        },
        {
          "output_type": "stream",
          "name": "stdout",
          "text": [
            "processed: 1201/2994 examples. accuracy: 0.4138218151540383\n"
          ]
        },
        {
          "output_type": "stream",
          "name": "stderr",
          "text": [
            "1301it [31:31,  1.27it/s]"
          ]
        },
        {
          "output_type": "stream",
          "name": "stdout",
          "text": [
            "processed: 1301/2994 examples. accuracy: 0.415065334358186\n"
          ]
        },
        {
          "output_type": "stream",
          "name": "stderr",
          "text": [
            "1401it [34:09,  1.42s/it]"
          ]
        },
        {
          "output_type": "stream",
          "name": "stdout",
          "text": [
            "processed: 1401/2994 examples. accuracy: 0.4182726623840114\n"
          ]
        },
        {
          "output_type": "stream",
          "name": "stderr",
          "text": [
            "1501it [36:38,  1.04it/s]"
          ]
        },
        {
          "output_type": "stream",
          "name": "stdout",
          "text": [
            "processed: 1501/2994 examples. accuracy: 0.4217188540972685\n"
          ]
        },
        {
          "output_type": "stream",
          "name": "stderr",
          "text": [
            "1601it [39:25,  1.95s/it]"
          ]
        },
        {
          "output_type": "stream",
          "name": "stdout",
          "text": [
            "processed: 1601/2994 examples. accuracy: 0.42286071205496567\n"
          ]
        },
        {
          "output_type": "stream",
          "name": "stderr",
          "text": [
            "1701it [41:44,  1.29it/s]"
          ]
        },
        {
          "output_type": "stream",
          "name": "stdout",
          "text": [
            "processed: 1701/2994 examples. accuracy: 0.42034097589653147\n"
          ]
        },
        {
          "output_type": "stream",
          "name": "stderr",
          "text": [
            "1801it [44:25,  1.40s/it]"
          ]
        },
        {
          "output_type": "stream",
          "name": "stdout",
          "text": [
            "processed: 1801/2994 examples. accuracy: 0.41921154913936703\n"
          ]
        },
        {
          "output_type": "stream",
          "name": "stderr",
          "text": [
            "1901it [46:58,  2.11s/it]"
          ]
        },
        {
          "output_type": "stream",
          "name": "stdout",
          "text": [
            "processed: 1901/2994 examples. accuracy: 0.4139926354550237\n"
          ]
        },
        {
          "output_type": "stream",
          "name": "stderr",
          "text": [
            "2001it [49:31,  1.11s/it]"
          ]
        },
        {
          "output_type": "stream",
          "name": "stdout",
          "text": [
            "processed: 2001/2994 examples. accuracy: 0.41529235382308843\n"
          ]
        },
        {
          "output_type": "stream",
          "name": "stderr",
          "text": [
            "2101it [52:00,  1.92s/it]"
          ]
        },
        {
          "output_type": "stream",
          "name": "stdout",
          "text": [
            "processed: 2101/2994 examples. accuracy: 0.4145644930985245\n"
          ]
        },
        {
          "output_type": "stream",
          "name": "stderr",
          "text": [
            "2201it [54:03,  1.13s/it]"
          ]
        },
        {
          "output_type": "stream",
          "name": "stdout",
          "text": [
            "processed: 2201/2994 examples. accuracy: 0.4134484325306679\n"
          ]
        },
        {
          "output_type": "stream",
          "name": "stderr",
          "text": [
            "2301it [56:43,  2.22s/it]"
          ]
        },
        {
          "output_type": "stream",
          "name": "stdout",
          "text": [
            "processed: 2301/2994 examples. accuracy: 0.41286397218600607\n"
          ]
        },
        {
          "output_type": "stream",
          "name": "stderr",
          "text": [
            "2401it [59:17,  2.27s/it]"
          ]
        },
        {
          "output_type": "stream",
          "name": "stdout",
          "text": [
            "processed: 2401/2994 examples. accuracy: 0.4148271553519367\n"
          ]
        },
        {
          "output_type": "stream",
          "name": "stderr",
          "text": [
            "2501it [1:01:24,  1.75s/it]"
          ]
        },
        {
          "output_type": "stream",
          "name": "stdout",
          "text": [
            "processed: 2501/2994 examples. accuracy: 0.41423430627748903\n"
          ]
        },
        {
          "output_type": "stream",
          "name": "stderr",
          "text": [
            "2601it [1:03:51,  1.54s/it]"
          ]
        },
        {
          "output_type": "stream",
          "name": "stdout",
          "text": [
            "processed: 2601/2994 examples. accuracy: 0.41753171856978083\n"
          ]
        },
        {
          "output_type": "stream",
          "name": "stderr",
          "text": [
            "2701it [1:06:08,  1.23s/it]"
          ]
        },
        {
          "output_type": "stream",
          "name": "stdout",
          "text": [
            "processed: 2701/2994 examples. accuracy: 0.4183635690485005\n"
          ]
        },
        {
          "output_type": "stream",
          "name": "stderr",
          "text": [
            "2801it [1:08:25,  1.29s/it]"
          ]
        },
        {
          "output_type": "stream",
          "name": "stdout",
          "text": [
            "processed: 2801/2994 examples. accuracy: 0.41949303820064265\n"
          ]
        },
        {
          "output_type": "stream",
          "name": "stderr",
          "text": [
            "2901it [1:10:39,  1.11s/it]"
          ]
        },
        {
          "output_type": "stream",
          "name": "stdout",
          "text": [
            "processed: 2901/2994 examples. accuracy: 0.41744226128921064\n"
          ]
        },
        {
          "output_type": "stream",
          "name": "stderr",
          "text": [
            "2994it [1:12:50,  1.46s/it]\n"
          ]
        },
        {
          "output_type": "stream",
          "name": "stdout",
          "text": [
            "acc = 0.41850367401469607\n",
            "Coreference error: 0.11054421768707483\n",
            "Entity error: 0.2188679245283019\n",
            "Predicate error: 0.0740072202166065\n",
            "Circumstance error: 0.24453406919974527\n",
            "Link error: 0.06837606837606838\n",
            "Unclear error: 0.14331210191082802\n",
            "Done!\n"
          ]
        }
      ]
    },
    {
      "cell_type": "code",
      "source": [
        "\n",
        "data_file = \"/content/drive/MyDrive/factor/data/wiki_factor.csv\"\n",
        "output_folder = \"/content/drive/MyDrive/factor/output\"\n",
        "model_name = 'facebook/opt-350m'\n",
        "max_tokens = 1024\n",
        "cache_dir = \"/content/drive/MyDrive/factor/cache\"\n",
        "main(data_file, output_folder, model_name, max_tokens, cache_dir)"
      ],
      "metadata": {
        "colab": {
          "base_uri": "https://localhost:8080/",
          "height": 945,
          "referenced_widgets": [
            "f346c501be554151a38dad65bbc81ee5",
            "3518207ee10246899b603d42a0dc6a64",
            "55904f9c5a9f47d5aed2250334b6fe4d",
            "c5aded8707764ea8a99920dea4e01b43",
            "1a950afa543b480ea5cbc0c4e5331ccc",
            "20f8957182fa4cceb10cccc63db494f3",
            "0de573b9f2194c34890c8e9c3cc7e552",
            "567e54bd9f7745aa96cf42e7de86ff6b",
            "5e837c6b2dff435ba2a5c92ddc80004d",
            "c5a5f399aa23419abf1aa2ccd9c95a18",
            "dddc73b2025d44a2bf9eb3852c57f287",
            "37900abc5b294c84b46f953da91f1346",
            "f0d98d4f3a354e218fa1cceb50c4f663",
            "f113684130b84b55bbdcbdb02b8d031b",
            "8b72a60e1f11419da476b32a322d5eec",
            "4559990ffde948b88b08d1cd024b3c3a",
            "16836d780ef44017b5246f6594bc2c56",
            "8e847e388b634641ba981e57bb70b56f",
            "b2df5d0d6126485c9aa96368637d041b",
            "d50b757a75384c58b48df94f8d7069a5",
            "7e645c38ac974e268a73fbca276472a4",
            "6054720ff9aa4c6683e8862bd3dfa32e",
            "f14750f969d24700aec8262911c15ec0",
            "51f1fa1f58d74eec9e3727b287f7a696",
            "ef9c3754fae549639fcd3f5b9e130332",
            "03a8e83a9b6a4957bd8109fce6515008",
            "bff7d3c713da4e74a79be0afddbbd73a",
            "7ee0c2c0d54e4d69a40813719e43c551",
            "f1ec244c70244823acbd03d5766ba47a",
            "2dc33a82ce16407a8217a7b8c6a30d59",
            "3897f95814844d36b63d3c03751afa95",
            "26e26d06158441bc91544c47c5643f87",
            "96143e38ef43453eb2ad2fad4841d421",
            "ef5718df9a5f4d568c4ba8b3d150dffa",
            "2c169665a7a74d4f8af23e64e4c8bfa7",
            "4e50d6e75753428dacf65f90ff58674c",
            "aa463c46de874083ada42c5855d95c11",
            "99dc20acc93943aca01673be14852975",
            "d2691990b55d4a4e98fc8367863ee5f0",
            "a5661a7c3a9646bb802f96a38792769d",
            "8ff18831c13143d497ac56c56382860f",
            "80408a543deb42638feee30ab759ef18",
            "1ca29f6f07cb4578b9eb314ae962ec4a",
            "5d0b311d015e48f1ba080453965a74ea",
            "eae6441c1455468ea2183a326b546ce6",
            "71522dd6bd504ca2ac0e4396295afc4e",
            "75877b2d8b0546fdbf228d652b939d2d",
            "c2f1d8fa950948fc82c927f305642a5f",
            "f0a784aee218492d81362ef565da91a8",
            "eb8d175392d140b899752e934e6ddbfc",
            "fb848cc541f34b27b9ae8a512a30e471",
            "0a3e1a4aa8a64f109f856b914cace695",
            "59a544c0fa3043cf874915f7f857f06a",
            "0296f1588fff43fb898890c38a4e806e",
            "3c87de465b194d479d0124399a4efdc1"
          ]
        },
        "id": "wNgCZIgK4QKt",
        "outputId": "02b35c92-3bfa-46df-d053-6c421894f089"
      },
      "execution_count": null,
      "outputs": [
        {
          "output_type": "display_data",
          "data": {
            "text/plain": [
              "config.json:   0%|          | 0.00/644 [00:00<?, ?B/s]"
            ],
            "application/vnd.jupyter.widget-view+json": {
              "version_major": 2,
              "version_minor": 0,
              "model_id": "f346c501be554151a38dad65bbc81ee5"
            }
          },
          "metadata": {}
        },
        {
          "output_type": "display_data",
          "data": {
            "text/plain": [
              "tokenizer_config.json:   0%|          | 0.00/685 [00:00<?, ?B/s]"
            ],
            "application/vnd.jupyter.widget-view+json": {
              "version_major": 2,
              "version_minor": 0,
              "model_id": "37900abc5b294c84b46f953da91f1346"
            }
          },
          "metadata": {}
        },
        {
          "output_type": "display_data",
          "data": {
            "text/plain": [
              "vocab.json:   0%|          | 0.00/899k [00:00<?, ?B/s]"
            ],
            "application/vnd.jupyter.widget-view+json": {
              "version_major": 2,
              "version_minor": 0,
              "model_id": "f14750f969d24700aec8262911c15ec0"
            }
          },
          "metadata": {}
        },
        {
          "output_type": "display_data",
          "data": {
            "text/plain": [
              "merges.txt:   0%|          | 0.00/456k [00:00<?, ?B/s]"
            ],
            "application/vnd.jupyter.widget-view+json": {
              "version_major": 2,
              "version_minor": 0,
              "model_id": "ef5718df9a5f4d568c4ba8b3d150dffa"
            }
          },
          "metadata": {}
        },
        {
          "output_type": "display_data",
          "data": {
            "text/plain": [
              "special_tokens_map.json:   0%|          | 0.00/441 [00:00<?, ?B/s]"
            ],
            "application/vnd.jupyter.widget-view+json": {
              "version_major": 2,
              "version_minor": 0,
              "model_id": "eae6441c1455468ea2183a326b546ce6"
            }
          },
          "metadata": {}
        },
        {
          "output_type": "stream",
          "name": "stdout",
          "text": [
            "torch.float16\n"
          ]
        },
        {
          "output_type": "stream",
          "name": "stderr",
          "text": [
            "2it [00:00,  3.72it/s]"
          ]
        },
        {
          "output_type": "stream",
          "name": "stdout",
          "text": [
            "processed: 1/2994 examples. accuracy: 1.0\n"
          ]
        },
        {
          "output_type": "stream",
          "name": "stderr",
          "text": [
            "102it [00:15,  8.54it/s]"
          ]
        },
        {
          "output_type": "stream",
          "name": "stdout",
          "text": [
            "processed: 101/2994 examples. accuracy: 0.37623762376237624\n"
          ]
        },
        {
          "output_type": "stream",
          "name": "stderr",
          "text": [
            "203it [00:29,  6.38it/s]"
          ]
        },
        {
          "output_type": "stream",
          "name": "stdout",
          "text": [
            "processed: 201/2994 examples. accuracy: 0.3482587064676617\n"
          ]
        },
        {
          "output_type": "stream",
          "name": "stderr",
          "text": [
            "302it [00:44,  6.72it/s]"
          ]
        },
        {
          "output_type": "stream",
          "name": "stdout",
          "text": [
            "processed: 301/2994 examples. accuracy: 0.34219269102990035\n"
          ]
        },
        {
          "output_type": "stream",
          "name": "stderr",
          "text": [
            "400it [00:59,  6.71it/s]"
          ]
        },
        {
          "output_type": "stream",
          "name": "stdout",
          "text": [
            "processed: 401/2994 examples. accuracy: 0.3266832917705736\n"
          ]
        },
        {
          "output_type": "stream",
          "name": "stderr",
          "text": [
            "502it [01:15,  5.05it/s]"
          ]
        },
        {
          "output_type": "stream",
          "name": "stdout",
          "text": [
            "processed: 501/2994 examples. accuracy: 0.3253493013972056\n"
          ]
        },
        {
          "output_type": "stream",
          "name": "stderr",
          "text": [
            "601it [01:30,  8.08it/s]"
          ]
        },
        {
          "output_type": "stream",
          "name": "stdout",
          "text": [
            "processed: 601/2994 examples. accuracy: 0.3161397670549085\n"
          ]
        },
        {
          "output_type": "stream",
          "name": "stderr",
          "text": [
            "701it [01:48,  7.45it/s]"
          ]
        },
        {
          "output_type": "stream",
          "name": "stdout",
          "text": [
            "processed: 701/2994 examples. accuracy: 0.3181169757489301\n"
          ]
        },
        {
          "output_type": "stream",
          "name": "stderr",
          "text": [
            "802it [02:04,  8.74it/s]"
          ]
        },
        {
          "output_type": "stream",
          "name": "stdout",
          "text": [
            "processed: 801/2994 examples. accuracy: 0.317103620474407\n"
          ]
        },
        {
          "output_type": "stream",
          "name": "stderr",
          "text": [
            "903it [02:18,  7.71it/s]"
          ]
        },
        {
          "output_type": "stream",
          "name": "stdout",
          "text": [
            "processed: 901/2994 examples. accuracy: 0.32297447280799113\n"
          ]
        },
        {
          "output_type": "stream",
          "name": "stderr",
          "text": [
            "1002it [02:35,  6.81it/s]"
          ]
        },
        {
          "output_type": "stream",
          "name": "stdout",
          "text": [
            "processed: 1001/2994 examples. accuracy: 0.3166833166833167\n"
          ]
        },
        {
          "output_type": "stream",
          "name": "stderr",
          "text": [
            "1103it [02:51, 12.71it/s]"
          ]
        },
        {
          "output_type": "stream",
          "name": "stdout",
          "text": [
            "processed: 1101/2994 examples. accuracy: 0.31607629427792916\n"
          ]
        },
        {
          "output_type": "stream",
          "name": "stderr",
          "text": [
            "1201it [03:06,  6.24it/s]"
          ]
        },
        {
          "output_type": "stream",
          "name": "stdout",
          "text": [
            "processed: 1201/2994 examples. accuracy: 0.3164029975020816\n"
          ]
        },
        {
          "output_type": "stream",
          "name": "stderr",
          "text": [
            "1302it [03:22, 11.39it/s]"
          ]
        },
        {
          "output_type": "stream",
          "name": "stdout",
          "text": [
            "processed: 1301/2994 examples. accuracy: 0.3143735588009224\n"
          ]
        },
        {
          "output_type": "stream",
          "name": "stderr",
          "text": [
            "1400it [03:38,  6.02it/s]"
          ]
        },
        {
          "output_type": "stream",
          "name": "stdout",
          "text": [
            "processed: 1401/2994 examples. accuracy: 0.3140613847251963\n"
          ]
        },
        {
          "output_type": "stream",
          "name": "stderr",
          "text": [
            "1503it [03:55, 11.00it/s]"
          ]
        },
        {
          "output_type": "stream",
          "name": "stdout",
          "text": [
            "processed: 1501/2994 examples. accuracy: 0.3157894736842105\n"
          ]
        },
        {
          "output_type": "stream",
          "name": "stderr",
          "text": [
            "1602it [04:13,  5.57it/s]"
          ]
        },
        {
          "output_type": "stream",
          "name": "stdout",
          "text": [
            "processed: 1601/2994 examples. accuracy: 0.3198001249219238\n"
          ]
        },
        {
          "output_type": "stream",
          "name": "stderr",
          "text": [
            "1701it [04:28,  8.48it/s]"
          ]
        },
        {
          "output_type": "stream",
          "name": "stdout",
          "text": [
            "processed: 1701/2994 examples. accuracy: 0.3186360964138742\n"
          ]
        },
        {
          "output_type": "stream",
          "name": "stderr",
          "text": [
            "1801it [04:46,  6.64it/s]"
          ]
        },
        {
          "output_type": "stream",
          "name": "stdout",
          "text": [
            "processed: 1801/2994 examples. accuracy: 0.31593559133814547\n"
          ]
        },
        {
          "output_type": "stream",
          "name": "stderr",
          "text": [
            "1901it [05:03,  4.92it/s]"
          ]
        },
        {
          "output_type": "stream",
          "name": "stdout",
          "text": [
            "processed: 1901/2994 examples. accuracy: 0.3145712782745923\n"
          ]
        },
        {
          "output_type": "stream",
          "name": "stderr",
          "text": [
            "2003it [05:21,  8.75it/s]"
          ]
        },
        {
          "output_type": "stream",
          "name": "stdout",
          "text": [
            "processed: 2001/2994 examples. accuracy: 0.3173413293353323\n"
          ]
        },
        {
          "output_type": "stream",
          "name": "stderr",
          "text": [
            "2102it [05:38,  5.98it/s]"
          ]
        },
        {
          "output_type": "stream",
          "name": "stdout",
          "text": [
            "processed: 2101/2994 examples. accuracy: 0.3165159447881961\n"
          ]
        },
        {
          "output_type": "stream",
          "name": "stderr",
          "text": [
            "2203it [05:50,  9.73it/s]"
          ]
        },
        {
          "output_type": "stream",
          "name": "stdout",
          "text": [
            "processed: 2201/2994 examples. accuracy: 0.3125851885506588\n"
          ]
        },
        {
          "output_type": "stream",
          "name": "stderr",
          "text": [
            "2301it [06:08,  4.39it/s]"
          ]
        },
        {
          "output_type": "stream",
          "name": "stdout",
          "text": [
            "processed: 2301/2994 examples. accuracy: 0.3098652759669709\n"
          ]
        },
        {
          "output_type": "stream",
          "name": "stderr",
          "text": [
            "2403it [06:26,  5.82it/s]"
          ]
        },
        {
          "output_type": "stream",
          "name": "stdout",
          "text": [
            "processed: 2401/2994 examples. accuracy: 0.31153685964181593\n"
          ]
        },
        {
          "output_type": "stream",
          "name": "stderr",
          "text": [
            "2503it [06:39,  7.56it/s]"
          ]
        },
        {
          "output_type": "stream",
          "name": "stdout",
          "text": [
            "processed: 2501/2994 examples. accuracy: 0.31067572970811674\n"
          ]
        },
        {
          "output_type": "stream",
          "name": "stderr",
          "text": [
            "2603it [06:55,  8.97it/s]"
          ]
        },
        {
          "output_type": "stream",
          "name": "stdout",
          "text": [
            "processed: 2601/2994 examples. accuracy: 0.31295655517108806\n"
          ]
        },
        {
          "output_type": "stream",
          "name": "stderr",
          "text": [
            "2701it [07:10,  7.13it/s]"
          ]
        },
        {
          "output_type": "stream",
          "name": "stdout",
          "text": [
            "processed: 2701/2994 examples. accuracy: 0.3113661606812292\n"
          ]
        },
        {
          "output_type": "stream",
          "name": "stderr",
          "text": [
            "2801it [07:26,  8.37it/s]"
          ]
        },
        {
          "output_type": "stream",
          "name": "stdout",
          "text": [
            "processed: 2801/2994 examples. accuracy: 0.31131738664762587\n"
          ]
        },
        {
          "output_type": "stream",
          "name": "stderr",
          "text": [
            "2901it [07:40,  9.09it/s]"
          ]
        },
        {
          "output_type": "stream",
          "name": "stdout",
          "text": [
            "processed: 2901/2994 examples. accuracy: 0.3098931402964495\n"
          ]
        },
        {
          "output_type": "stream",
          "name": "stderr",
          "text": [
            "2994it [07:55,  6.30it/s]\n"
          ]
        },
        {
          "output_type": "stream",
          "name": "stdout",
          "text": [
            "acc = 0.3102872411489646\n",
            "Coreference error: 0.15306122448979592\n",
            "Entity error: 0.2779874213836478\n",
            "Predicate error: 0.10770156438026474\n",
            "Circumstance error: 0.27297813627679895\n",
            "Link error: 0.10256410256410256\n",
            "Unclear error: 0.17834394904458598\n",
            "Done!\n"
          ]
        }
      ]
    },
    {
      "cell_type": "code",
      "source": [
        "import torch\n",
        "\n",
        "torch.cuda.empty_cache()\n"
      ],
      "metadata": {
        "id": "-X_o9__Te-n8"
      },
      "execution_count": null,
      "outputs": []
    }
  ]
}